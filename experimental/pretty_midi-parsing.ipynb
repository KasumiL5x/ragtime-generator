{
 "cells": [
  {
   "cell_type": "code",
   "execution_count": null,
   "metadata": {},
   "outputs": [],
   "source": []
  },
  {
   "cell_type": "code",
   "execution_count": 34,
   "metadata": {},
   "outputs": [
    {
     "name": "stdout",
     "output_type": "stream",
     "text": [
      "Processing ./data/C_mapleaf.mid\n",
      "Done!\n"
     ]
    },
    {
     "name": "stderr",
     "output_type": "stream",
     "text": [
      "/usr/local/lib/python3.7/site-packages/pretty_midi/pretty_midi.py:100: RuntimeWarning: Tempo, Key or Time signature change events found on non-zero tracks.  This is not a valid type 0 or type 1 MIDI file.  Tempo, Key or Time Signature may be wrong.\n",
      "  RuntimeWarning)\n"
     ]
    }
   ],
   "source": [
    "import glob\n",
    "import pretty_midi\n",
    "\n",
    "def get_piano_rolls(midi_files, fs):\n",
    "    result = []\n",
    "    for idx, file in enumerate(midi_files):\n",
    "        print(f'Processing {file}')\n",
    "        \n",
    "        # read midi file\n",
    "        midi = pretty_midi.PrettyMIDI(file)\n",
    "        \n",
    "        # must have valid piano instrument (using 'not in' as there are variants of Piano like Grand Piano)\n",
    "        if not len(midi.instruments) or 'Piano' not in midi.instruments[0].name:\n",
    "            print(f'\\tCannot process file as the first instrument is not a Piano.')\n",
    "            continue\n",
    "        #end\n",
    "        \n",
    "        result.append(midi.get_piano_roll(fs=fs))\n",
    "    #end\n",
    "    print('Done!')\n",
    "    return result\n",
    "#end\n",
    "\n",
    "all_midi_files = glob.glob('./data/*.mid')\n",
    "all_piano_rolls = get_piano_rolls(['./data/C_mapleaf.mid'], 100)#[all_midi_files[0]], 3)"
   ]
  },
  {
   "cell_type": "code",
   "execution_count": 35,
   "metadata": {
    "scrolled": false
   },
   "outputs": [],
   "source": [
    "import numpy as np\n",
    "\n",
    "SEQUENCE_LENGTH = 50\n",
    "\n",
    "def process_piano_roll(roll, seq_len):\n",
    "    times = np.unique(np.where(roll > 0)[1])\n",
    "    index = np.where(roll > 0)\n",
    "    \n",
    "    time_note_dict = {}\n",
    "    for time in times:\n",
    "        index_where = np.where(index[1] == time)\n",
    "        notes = index[0][index_where]\n",
    "        time_note_dict[time] = notes\n",
    "    #end\n",
    "    return time_note_dict\n",
    "#end\n",
    "\n",
    "for roll in all_piano_rolls:\n",
    "    notes = process_piano_roll(roll, SEQUENCE_LENGTH)\n",
    "#end"
   ]
  },
  {
   "cell_type": "code",
   "execution_count": 36,
   "metadata": {},
   "outputs": [],
   "source": [
    "class NoteTokenizer(object):\n",
    "    def __init__(self):\n",
    "        self.notes_to_index = {}\n",
    "        self.index_to_notes = {}\n",
    "        self.num_words = 0\n",
    "        self.unique_words = 0\n",
    "        self.notes_freq = {}\n",
    "    #end\n",
    "    \n",
    "    def transform(self, array):\n",
    "        xformed_array = []\n",
    "        for el in array:\n",
    "            xformed_array.append([self.notes_to_index[note] for note in el])\n",
    "        #end\n",
    "        return np.array(xformed_array, dtype=np.int32)\n",
    "    #end\n",
    "    \n",
    "    def partial_fit(self, notes):\n",
    "        for note in notes:\n",
    "            note_str = ','.join(str(a) for a in note)\n",
    "            if note_str in self.notes_freq:\n",
    "                self.notes_freq[note_str] += 1\n",
    "                self.num_words += 1\n",
    "            else:\n",
    "                self.notes_freq[note_str] = 1\n",
    "                self.unique_words += 1\n",
    "                self.num_words += 1\n",
    "                self.notes_to_index[note_str], self.index_to_notes[self.unique_words] = self.unique_words,  note_str\n",
    "        #end\n",
    "    #end\n",
    "        \n",
    "    def add_new_note(self, note):\n",
    "        assert note not in self.notes_to_index\n",
    "        self.unique_words += 1\n",
    "        self.notes_to_index[note], self.index_to_notes[self.unique_words] = self.unique_words, note\n",
    "    #end\n",
    "#end"
   ]
  },
  {
   "cell_type": "code",
   "execution_count": 37,
   "metadata": {},
   "outputs": [],
   "source": [
    "def piano_roll_to_midi(roll, fs):\n",
    "    notes, frames = roll.shape\n",
    "    pm = pretty_midi.PrettyMIDI()\n",
    "    pm.time_signature_changes = [pretty_midi.TimeSignature(2, 4, 0)]\n",
    "    instrument = pretty_midi.Instrument(program=0)\n",
    "    \n",
    "    # padd 1 column of zeros to acknowledge initial and ending events\n",
    "    roll = np.pad(roll, [(0,0), (1,1)], 'constant')\n",
    "    \n",
    "    # use changes in velocity to find note on/off events\n",
    "    vel_changes = np.nonzero(np.diff(roll).T)\n",
    "    \n",
    "    # keep track of velocities and note on times\n",
    "    prev_vels = np.zeros(notes, dtype=int)\n",
    "    notes_on_time = np.zeros(notes)\n",
    "    for time, note in zip(*vel_changes):\n",
    "        vel = roll[note, time+1]\n",
    "        time = time / fs\n",
    "        if vel > 0:\n",
    "            if prev_vels[note] == 0:\n",
    "                notes_on_time[note] = time\n",
    "                prev_vels[note] = vel\n",
    "            #end\n",
    "        else:\n",
    "            pm_note = pretty_midi.Note(\n",
    "                velocity=prev_vels[note],\n",
    "                pitch=note,\n",
    "                start=notes_on_time[note],\n",
    "                end=time\n",
    "            )\n",
    "            instrument.notes.append(pm_note)\n",
    "            prev_vels[note] = 0\n",
    "        #end\n",
    "    #end\n",
    "    pm.instruments.append(instrument)\n",
    "    return pm\n",
    "#end\n",
    "\n",
    "midi_out = piano_roll_to_midi(all_piano_rolls[0], 100)\n",
    "for note in midi_out.instruments[0].notes:\n",
    "    note.velocity = 100\n",
    "midi_out.write('./output.mid')"
   ]
  },
  {
   "cell_type": "code",
   "execution_count": null,
   "metadata": {},
   "outputs": [],
   "source": []
  },
  {
   "cell_type": "code",
   "execution_count": null,
   "metadata": {},
   "outputs": [],
   "source": []
  }
 ],
 "metadata": {
  "kernelspec": {
   "display_name": "Python 3",
   "language": "python",
   "name": "python3"
  },
  "language_info": {
   "codemirror_mode": {
    "name": "ipython",
    "version": 3
   },
   "file_extension": ".py",
   "mimetype": "text/x-python",
   "name": "python",
   "nbconvert_exporter": "python",
   "pygments_lexer": "ipython3",
   "version": "3.7.4"
  },
  "varInspector": {
   "cols": {
    "lenName": 16,
    "lenType": 16,
    "lenVar": 40
   },
   "kernels_config": {
    "python": {
     "delete_cmd_postfix": "",
     "delete_cmd_prefix": "del ",
     "library": "var_list.py",
     "varRefreshCmd": "print(var_dic_list())"
    },
    "r": {
     "delete_cmd_postfix": ") ",
     "delete_cmd_prefix": "rm(",
     "library": "var_list.r",
     "varRefreshCmd": "cat(var_dic_list()) "
    }
   },
   "types_to_exclude": [
    "module",
    "function",
    "builtin_function_or_method",
    "instance",
    "_Feature"
   ],
   "window_display": false
  }
 },
 "nbformat": 4,
 "nbformat_minor": 2
}
