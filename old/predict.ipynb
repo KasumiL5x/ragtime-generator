{
 "cells": [
  {
   "cell_type": "code",
   "execution_count": 1,
   "metadata": {
    "colab": {},
    "colab_type": "code",
    "id": "HuoYaJrasbds"
   },
   "outputs": [],
   "source": [
    "MAX_DURATION = 8.0 # 2 bars\n",
    "NOTE_SEPARATOR = '!'\n",
    "REST_VALUE = '@'\n",
    "\n",
    "import pickle\n",
    "\n",
    "notes = pickle.load(open('./raggen-notes.bin', 'rb'))"
   ]
  },
  {
   "cell_type": "code",
   "execution_count": 2,
   "metadata": {},
   "outputs": [
    {
     "name": "stderr",
     "output_type": "stream",
     "text": [
      "Using TensorFlow backend.\n"
     ]
    },
    {
     "name": "stdout",
     "output_type": "stream",
     "text": [
      "Number of unique notes: 5806\n"
     ]
    }
   ],
   "source": [
    "from keras.utils import np_utils\n",
    "import numpy as np\n",
    "\n",
    "TIMESTEP = 0.5 # 16th notes\n",
    "SEQ_LEN = int(4 / TIMESTEP) # 8 per bar\n",
    "\n",
    "num_unique_notes = len(set(notes))\n",
    "print(f'Number of unique notes: {num_unique_notes}')\n",
    "\n",
    "# all unique pitches (including rests)\n",
    "pitch_names = sorted(set(i for i in notes))\n",
    "# map pitches to integers\n",
    "note_to_int = dict((note, num) for num, note in enumerate(pitch_names))\n",
    "\n",
    "data_X = []\n",
    "data_y = []\n",
    "for i in range(0, len(notes) - SEQ_LEN, 1):\n",
    "    seq_in = notes[i:i + SEQ_LEN]\n",
    "    data_X.append([note_to_int[n] for n in seq_in])\n",
    "\n",
    "    seq_out = notes[i + SEQ_LEN]\n",
    "    data_y.append(note_to_int[seq_out])\n",
    "#end\n",
    "\n",
    "X = np.reshape(data_X, (len(data_X), SEQ_LEN, 1))\n",
    "X = X / float(len(notes))\n",
    "y = np_utils.to_categorical(data_y)"
   ]
  },
  {
   "cell_type": "code",
   "execution_count": 3,
   "metadata": {
    "colab": {
     "base_uri": "https://localhost:8080/",
     "height": 530
    },
    "colab_type": "code",
    "executionInfo": {
     "elapsed": 6196,
     "status": "ok",
     "timestamp": 1571574049565,
     "user": {
      "displayName": "Daniel Green",
      "photoUrl": "https://lh3.googleusercontent.com/a-/AAuE7mCFRtqS5I7HVNdoY-OISy3BzinululKE6uTawrZ4g=s64",
      "userId": "17744463245578873670"
     },
     "user_tz": -60
    },
    "id": "-c-Vxxb3tymA",
    "outputId": "df7a43b6-a6fb-4293-8952-2cce858fe102"
   },
   "outputs": [
    {
     "name": "stdout",
     "output_type": "stream",
     "text": [
      "Model: \"sequential_1\"\n",
      "_________________________________________________________________\n",
      "Layer (type)                 Output Shape              Param #   \n",
      "=================================================================\n",
      "lstm_1 (LSTM)                (None, 8, 256)            264192    \n",
      "_________________________________________________________________\n",
      "dropout_1 (Dropout)          (None, 8, 256)            0         \n",
      "_________________________________________________________________\n",
      "lstm_2 (LSTM)                (None, 256)               525312    \n",
      "_________________________________________________________________\n",
      "dropout_2 (Dropout)          (None, 256)               0         \n",
      "_________________________________________________________________\n",
      "dense_1 (Dense)              (None, 5806)              1492142   \n",
      "=================================================================\n",
      "Total params: 2,281,646\n",
      "Trainable params: 2,281,646\n",
      "Non-trainable params: 0\n",
      "_________________________________________________________________\n"
     ]
    }
   ],
   "source": [
    "from keras.models import Sequential\n",
    "from keras.layers import LSTM, Dropout, Dense\n",
    "import keras.backend as K\n",
    "\n",
    "K.clear_session()\n",
    "\n",
    "model = Sequential()\n",
    "model.add(LSTM(256, input_shape=(X.shape[1], X.shape[2]), return_sequences=True))\n",
    "model.add(Dropout(0.3))\n",
    "model.add(LSTM(256))\n",
    "model.add(Dropout(0.3))\n",
    "model.add(Dense(y.shape[1], activation='softmax'))\n",
    "model.compile(loss='categorical_crossentropy', optimizer='adam', metrics=['accuracy'])\n",
    "\n",
    "model.summary()"
   ]
  },
  {
   "cell_type": "code",
   "execution_count": 4,
   "metadata": {},
   "outputs": [],
   "source": [
    "model_path = './raggen-model.hdf5'\n",
    "model.load_weights(model_path)"
   ]
  },
  {
   "cell_type": "code",
   "execution_count": 7,
   "metadata": {
    "colab": {
     "base_uri": "https://localhost:8080/",
     "height": 34
    },
    "colab_type": "code",
    "executionInfo": {
     "elapsed": 940,
     "status": "ok",
     "timestamp": 1571574413691,
     "user": {
      "displayName": "Daniel Green",
      "photoUrl": "https://lh3.googleusercontent.com/a-/AAuE7mCFRtqS5I7HVNdoY-OISy3BzinululKE6uTawrZ4g=s64",
      "userId": "17744463245578873670"
     },
     "user_tz": -60
    },
    "id": "VGtNS_O6uQVS",
    "outputId": "0c99e48b-2fdb-43d3-d0bc-b111ea310eab"
   },
   "outputs": [
    {
     "name": "stdout",
     "output_type": "stream",
     "text": [
      "Starting pattern: [1238, 3959, 4939, 1288, 4005, 3782, 4856, 3472]\n"
     ]
    }
   ],
   "source": [
    "# reverse mapping\n",
    "int_to_note = dict((num, note) for num, note in enumerate(pitch_names))\n",
    "\n",
    "# if true, only uses the best prediction available\n",
    "best_pred_only = False\n",
    "# if best_pred_only is false, how many predictions to randomly choose from\n",
    "num_best_preds = 2\n",
    "\n",
    "# random start point\n",
    "start_idx = np.random.randint(0, len(data_X)-1)\n",
    "v1_pattern = data_X[start_idx]\n",
    "print(f'Starting pattern: {v1_pattern}')\n",
    "v1_output = []\n",
    "for idx in range(100 * SEQ_LEN):\n",
    "#     print(f'Pattern {idx}: {v1_pattern}')\n",
    "    prediction_input = np.reshape(v1_pattern, (1, len(v1_pattern), 1))\n",
    "    prediction_input = prediction_input / float(len(notes))\n",
    "    prediction = model.predict(prediction_input)\n",
    "    \n",
    "    if best_pred_only:\n",
    "        pred_idx = np.argmax(prediction[0])\n",
    "    else:\n",
    "        top_5_idx = np.argpartition(prediction[0], -num_best_preds)[-num_best_preds:]\n",
    "        pred_idx = top_5_idx[np.random.randint(0, len(top_5_idx))]\n",
    "    \n",
    "    result = int_to_note[pred_idx]\n",
    "    v1_output.append(result)\n",
    "\n",
    "#     print(f'\\tPredicted index: {pred_idx}')\n",
    "\n",
    "    v1_pattern.append(pred_idx)\n",
    "    v1_pattern = v1_pattern[1:len(v1_pattern)]\n",
    "#end"
   ]
  },
  {
   "cell_type": "code",
   "execution_count": 8,
   "metadata": {
    "colab": {
     "base_uri": "https://localhost:8080/",
     "height": 34
    },
    "colab_type": "code",
    "executionInfo": {
     "elapsed": 1128,
     "status": "ok",
     "timestamp": 1571574415425,
     "user": {
      "displayName": "Daniel Green",
      "photoUrl": "https://lh3.googleusercontent.com/a-/AAuE7mCFRtqS5I7HVNdoY-OISy3BzinululKE6uTawrZ4g=s64",
      "userId": "17744463245578873670"
     },
     "user_tz": -60
    },
    "id": "HMalDmMMuoyY",
    "outputId": "ce8a9103-2615-477d-9ca6-8d9923ba77b9"
   },
   "outputs": [
    {
     "name": "stdout",
     "output_type": "stream",
     "text": [
      "Done!\n"
     ]
    }
   ],
   "source": [
    "from music21 import stream, duration, key, meter, note, chord, instrument\n",
    "\n",
    "def split_note_duration(pattern):\n",
    "    n, d = pattern.split('$')\n",
    "    if '/' in d:\n",
    "        a, b = d.split('/')\n",
    "        d = float(a) / float(b)\n",
    "    else:\n",
    "        d = float(d)\n",
    "    #end\n",
    "    return n, d\n",
    "#end\n",
    "\n",
    "def notes_array_to_midi(notes_array):\n",
    "    offset = 0.0\n",
    "    output_notes = []\n",
    "    \n",
    "    for pattern in notes_array:\n",
    "#         print(pattern)\n",
    "        # handle chords (i.e. multiple notes split by NOTE_SEPARATOR)\n",
    "        if NOTE_SEPARATOR in pattern:\n",
    "            # adding all notes in the chord separately instead of in a chord.Chord.\n",
    "            # this is because while music21 should support different length notes in a Chord,\n",
    "            # it doesn't appear to work (uses the Chord's duration).\n",
    "            for chord_note in pattern.split(NOTE_SEPARATOR):\n",
    "                note_name, note_duration = split_note_duration(chord_note)\n",
    "                new_note = note.Note(note_name)\n",
    "                new_note.offset = offset\n",
    "                new_note.storedInstrument = instrument.Piano\n",
    "                new_note.duration = duration.Duration(note_duration)\n",
    "                output_notes.append(new_note)\n",
    "            #end\n",
    "        #end\n",
    "        else:\n",
    "            note_name, note_duration = split_note_duration(pattern)\n",
    "            # handle rests\n",
    "            if REST_VALUE == note_name:\n",
    "                new_rest = note.Rest()\n",
    "                new_rest.offset = offset\n",
    "                new_rest.duration = duration.Duration(note_duration)\n",
    "                output_notes.append(new_rest)\n",
    "            else:\n",
    "                new_note = note.Note(note_name)\n",
    "                new_note.offset = offset\n",
    "                new_note.duration = duration.Duration(note_duration)\n",
    "                output_notes.append(new_note)\n",
    "        #end\n",
    "        \n",
    "        offset += TIMESTEP\n",
    "    #end\n",
    "    \n",
    "    midi_stream = stream.Stream(output_notes)\n",
    "    midi_stream.timeSignature = meter.TimeSignature('2/4')\n",
    "    midi_stream.keySignature = key.KeySignature(0)\n",
    "    midi_stream.write('midi', fp='./output.mid')\n",
    "    return output_notes\n",
    "#end\n",
    "\n",
    "s = notes_array_to_midi(v1_output)\n",
    "print('Done!')"
   ]
  },
  {
   "cell_type": "code",
   "execution_count": null,
   "metadata": {},
   "outputs": [],
   "source": []
  }
 ],
 "metadata": {
  "accelerator": "GPU",
  "colab": {
   "collapsed_sections": [],
   "name": "predict-new.ipynb",
   "provenance": [
    {
     "file_id": "1d7PyvFMCpA4eu5ed5lgJaxDnah0fT06Z",
     "timestamp": 1571521674068
    }
   ]
  },
  "kernelspec": {
   "display_name": "Python 3",
   "language": "python",
   "name": "python3"
  },
  "language_info": {
   "codemirror_mode": {
    "name": "ipython",
    "version": 3
   },
   "file_extension": ".py",
   "mimetype": "text/x-python",
   "name": "python",
   "nbconvert_exporter": "python",
   "pygments_lexer": "ipython3",
   "version": "3.7.4"
  },
  "varInspector": {
   "cols": {
    "lenName": 16,
    "lenType": 16,
    "lenVar": 40
   },
   "kernels_config": {
    "python": {
     "delete_cmd_postfix": "",
     "delete_cmd_prefix": "del ",
     "library": "var_list.py",
     "varRefreshCmd": "print(var_dic_list())"
    },
    "r": {
     "delete_cmd_postfix": ") ",
     "delete_cmd_prefix": "rm(",
     "library": "var_list.r",
     "varRefreshCmd": "cat(var_dic_list()) "
    }
   },
   "types_to_exclude": [
    "module",
    "function",
    "builtin_function_or_method",
    "instance",
    "_Feature"
   ],
   "window_display": false
  }
 },
 "nbformat": 4,
 "nbformat_minor": 1
}
